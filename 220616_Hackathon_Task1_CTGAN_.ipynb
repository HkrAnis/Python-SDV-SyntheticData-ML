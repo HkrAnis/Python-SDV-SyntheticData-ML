{
  "cells": [
    {
      "cell_type": "markdown",
      "metadata": {
        "id": "view-in-github",
        "colab_type": "text"
      },
      "source": [
        "<a href=\"https://colab.research.google.com/github/HkrAnis/Python-SDV-SyntheticData-ML/blob/main/220616_Hackathon_Task1_CTGAN_.ipynb\" target=\"_parent\"><img src=\"https://colab.research.google.com/assets/colab-badge.svg\" alt=\"Open In Colab\"/></a>"
      ]
    },
    {
      "cell_type": "markdown",
      "metadata": {
        "id": "KKhFtw4ZCbaP"
      },
      "source": [
        "### Play an audio when the cell has been executed"
      ]
    },
    {
      "cell_type": "code",
      "execution_count": null,
      "metadata": {
        "id": "FE8TQJC1Cbkh"
      },
      "outputs": [],
      "source": [
        "# Play an audio beep. Any audio URL will do.\n",
        "from google.colab import output\n",
        "output.eval_js('new Audio(\"https://upload.wikimedia.org/wikipedia/commons/0/05/Beep-09.ogg\").play()')"
      ]
    },
    {
      "cell_type": "markdown",
      "metadata": {
        "id": "8QBOb2ekCtfV"
      },
      "source": [
        "### Install SDV (Used for the synthesizer)"
      ]
    },
    {
      "cell_type": "code",
      "execution_count": null,
      "metadata": {
        "colab": {
          "base_uri": "https://localhost:8080/"
        },
        "id": "Tklj6ys5Cl1d",
        "outputId": "4702728b-eaa4-4c6d-8d03-841452eb6a81"
      },
      "outputs": [
        {
          "name": "stdout",
          "output_type": "stream",
          "text": [
            "Looking in indexes: https://pypi.org/simple, https://us-python.pkg.dev/colab-wheels/public/simple/\n",
            "Requirement already satisfied: sdv in /usr/local/lib/python3.7/dist-packages (0.15.0)\n",
            "Requirement already satisfied: ctgan<0.6,>=0.5.1 in /usr/local/lib/python3.7/dist-packages (from sdv) (0.5.1)\n",
            "Requirement already satisfied: deepecho<0.4,>=0.3.0.post1 in /usr/local/lib/python3.7/dist-packages (from sdv) (0.3.0.post1)\n",
            "Requirement already satisfied: sdmetrics<0.6,>=0.5.0 in /usr/local/lib/python3.7/dist-packages (from sdv) (0.5.0)\n",
            "Requirement already satisfied: pandas<2,>=1.1.3 in /usr/local/lib/python3.7/dist-packages (from sdv) (1.3.5)\n",
            "Requirement already satisfied: rdt<0.7,>=0.6.2 in /usr/local/lib/python3.7/dist-packages (from sdv) (0.6.4)\n",
            "Requirement already satisfied: graphviz<1,>=0.13.2 in /usr/local/lib/python3.7/dist-packages (from sdv) (0.20)\n",
            "Requirement already satisfied: tqdm<5,>=4.15 in /usr/local/lib/python3.7/dist-packages (from sdv) (4.64.0)\n",
            "Requirement already satisfied: Faker<10,>=3.0.0 in /usr/local/lib/python3.7/dist-packages (from sdv) (9.9.1)\n",
            "Requirement already satisfied: numpy<2,>=1.20.0 in /usr/local/lib/python3.7/dist-packages (from sdv) (1.21.6)\n",
            "Requirement already satisfied: copulas<0.8,>=0.7.0 in /usr/local/lib/python3.7/dist-packages (from sdv) (0.7.0)\n",
            "Requirement already satisfied: matplotlib<4,>=3.4.0 in /usr/local/lib/python3.7/dist-packages (from copulas<0.8,>=0.7.0->sdv) (3.5.2)\n",
            "Requirement already satisfied: scipy<2,>=1.5.4 in /usr/local/lib/python3.7/dist-packages (from copulas<0.8,>=0.7.0->sdv) (1.7.3)\n",
            "Requirement already satisfied: torchvision<1,>=0.9.0 in /usr/local/lib/python3.7/dist-packages (from ctgan<0.6,>=0.5.1->sdv) (0.12.0+cu113)\n",
            "Requirement already satisfied: scikit-learn<2,>=0.24 in /usr/local/lib/python3.7/dist-packages (from ctgan<0.6,>=0.5.1->sdv) (1.0.2)\n",
            "Requirement already satisfied: packaging<22,>=20 in /usr/local/lib/python3.7/dist-packages (from ctgan<0.6,>=0.5.1->sdv) (21.3)\n",
            "Requirement already satisfied: torch<2,>=1.8.0 in /usr/local/lib/python3.7/dist-packages (from ctgan<0.6,>=0.5.1->sdv) (1.11.0+cu113)\n",
            "Requirement already satisfied: python-dateutil>=2.4 in /usr/local/lib/python3.7/dist-packages (from Faker<10,>=3.0.0->sdv) (2.8.2)\n",
            "Requirement already satisfied: text-unidecode==1.3 in /usr/local/lib/python3.7/dist-packages (from Faker<10,>=3.0.0->sdv) (1.3)\n",
            "Requirement already satisfied: typing-extensions>=3.10.0.2 in /usr/local/lib/python3.7/dist-packages (from Faker<10,>=3.0.0->sdv) (4.2.0)\n",
            "Requirement already satisfied: kiwisolver>=1.0.1 in /usr/local/lib/python3.7/dist-packages (from matplotlib<4,>=3.4.0->copulas<0.8,>=0.7.0->sdv) (1.4.2)\n",
            "Requirement already satisfied: fonttools>=4.22.0 in /usr/local/lib/python3.7/dist-packages (from matplotlib<4,>=3.4.0->copulas<0.8,>=0.7.0->sdv) (4.33.3)\n",
            "Requirement already satisfied: pillow>=6.2.0 in /usr/local/lib/python3.7/dist-packages (from matplotlib<4,>=3.4.0->copulas<0.8,>=0.7.0->sdv) (7.1.2)\n",
            "Requirement already satisfied: pyparsing>=2.2.1 in /usr/local/lib/python3.7/dist-packages (from matplotlib<4,>=3.4.0->copulas<0.8,>=0.7.0->sdv) (3.0.9)\n",
            "Requirement already satisfied: cycler>=0.10 in /usr/local/lib/python3.7/dist-packages (from matplotlib<4,>=3.4.0->copulas<0.8,>=0.7.0->sdv) (0.11.0)\n",
            "Requirement already satisfied: pytz>=2017.3 in /usr/local/lib/python3.7/dist-packages (from pandas<2,>=1.1.3->sdv) (2022.1)\n",
            "Requirement already satisfied: six>=1.5 in /usr/local/lib/python3.7/dist-packages (from python-dateutil>=2.4->Faker<10,>=3.0.0->sdv) (1.15.0)\n",
            "Requirement already satisfied: pyyaml<6,>=5.4.1 in /usr/local/lib/python3.7/dist-packages (from rdt<0.7,>=0.6.2->sdv) (5.4.1)\n",
            "Requirement already satisfied: psutil<6,>=5.7 in /usr/local/lib/python3.7/dist-packages (from rdt<0.7,>=0.6.2->sdv) (5.9.1)\n",
            "Requirement already satisfied: joblib>=0.11 in /usr/local/lib/python3.7/dist-packages (from scikit-learn<2,>=0.24->ctgan<0.6,>=0.5.1->sdv) (1.1.0)\n",
            "Requirement already satisfied: threadpoolctl>=2.0.0 in /usr/local/lib/python3.7/dist-packages (from scikit-learn<2,>=0.24->ctgan<0.6,>=0.5.1->sdv) (3.1.0)\n",
            "Requirement already satisfied: pyts<0.13.0,>=0.12.0 in /usr/local/lib/python3.7/dist-packages (from sdmetrics<0.6,>=0.5.0->sdv) (0.12.0)\n",
            "Requirement already satisfied: numba>=0.48.0 in /usr/local/lib/python3.7/dist-packages (from pyts<0.13.0,>=0.12.0->sdmetrics<0.6,>=0.5.0->sdv) (0.51.2)\n",
            "Requirement already satisfied: setuptools in /usr/local/lib/python3.7/dist-packages (from numba>=0.48.0->pyts<0.13.0,>=0.12.0->sdmetrics<0.6,>=0.5.0->sdv) (57.4.0)\n",
            "Requirement already satisfied: llvmlite<0.35,>=0.34.0.dev0 in /usr/local/lib/python3.7/dist-packages (from numba>=0.48.0->pyts<0.13.0,>=0.12.0->sdmetrics<0.6,>=0.5.0->sdv) (0.34.0)\n",
            "Requirement already satisfied: requests in /usr/local/lib/python3.7/dist-packages (from torchvision<1,>=0.9.0->ctgan<0.6,>=0.5.1->sdv) (2.23.0)\n",
            "Requirement already satisfied: urllib3!=1.25.0,!=1.25.1,<1.26,>=1.21.1 in /usr/local/lib/python3.7/dist-packages (from requests->torchvision<1,>=0.9.0->ctgan<0.6,>=0.5.1->sdv) (1.24.3)\n",
            "Requirement already satisfied: idna<3,>=2.5 in /usr/local/lib/python3.7/dist-packages (from requests->torchvision<1,>=0.9.0->ctgan<0.6,>=0.5.1->sdv) (2.10)\n",
            "Requirement already satisfied: chardet<4,>=3.0.2 in /usr/local/lib/python3.7/dist-packages (from requests->torchvision<1,>=0.9.0->ctgan<0.6,>=0.5.1->sdv) (3.0.4)\n",
            "Requirement already satisfied: certifi>=2017.4.17 in /usr/local/lib/python3.7/dist-packages (from requests->torchvision<1,>=0.9.0->ctgan<0.6,>=0.5.1->sdv) (2022.5.18.1)\n"
          ]
        }
      ],
      "source": [
        "pip install sdv"
      ]
    },
    {
      "cell_type": "markdown",
      "metadata": {
        "id": "j0jJISz1DZUS"
      },
      "source": [
        "### Import packages"
      ]
    },
    {
      "cell_type": "code",
      "execution_count": null,
      "metadata": {
        "id": "32dXlcqvC5Qp"
      },
      "outputs": [],
      "source": [
        "from google.colab import drive\n",
        "import pandas as pd\n",
        "from sdv.tabular import CTGAN\n",
        "from sklearn.linear_model import SGDRegressor\n",
        "from sklearn.model_selection import KFold, cross_val_score, train_test_split # Model evaluation\n",
        "from sklearn.preprocessing import LabelEncoder, OneHotEncoder, StandardScaler # Preprocessing\n",
        "from sklearn.linear_model import Lasso, Ridge, ElasticNet, RANSACRegressor, SGDRegressor, HuberRegressor, BayesianRidge # Linear models\n",
        "from sklearn.ensemble import RandomForestRegressor, BaggingRegressor, AdaBoostRegressor, GradientBoostingRegressor, ExtraTreesRegressor  # Ensemble methods\n",
        "from xgboost import XGBRegressor, plot_importance # XGBoost\n",
        "from sklearn.svm import SVR, SVC, LinearSVC  # Support Vector Regression\n",
        "from sklearn.tree import DecisionTreeRegressor # Decision Tree Regression\n",
        "from sklearn.neighbors import KNeighborsRegressor\n",
        "from sklearn.pipeline import Pipeline # Streaming pipelines\n",
        "from sklearn.decomposition import KernelPCA, PCA # Dimensionality reduction\n",
        "from sklearn.feature_selection import SelectFromModel # Dimensionality reduction\n",
        "from sklearn.model_selection import learning_curve, validation_curve, GridSearchCV # Model evaluation\n",
        "from sklearn.base import clone # Clone estimator\n",
        "from sklearn.metrics import mean_squared_error as MSE\n",
        "from sklearn.preprocessing import LabelEncoder\n",
        "import pandas as pd\n",
        "import numpy as np\n",
        "import matplotlib.pyplot as plt\n",
        "import seaborn as sns"
      ]
    },
    {
      "cell_type": "markdown",
      "metadata": {
        "id": "28v3FWKQDf26"
      },
      "source": [
        "### Connect to the goolge drive dataset"
      ]
    },
    {
      "cell_type": "code",
      "execution_count": null,
      "metadata": {
        "colab": {
          "base_uri": "https://localhost:8080/"
        },
        "id": "8jX9XEbEDe0s",
        "outputId": "65e58089-c370-414f-8f91-bff9ede21435"
      },
      "outputs": [
        {
          "name": "stdout",
          "output_type": "stream",
          "text": [
            "Drive already mounted at /content/drive; to attempt to forcibly remount, call drive.mount(\"/content/drive\", force_remount=True).\n"
          ]
        }
      ],
      "source": [
        "drive.mount('/content/drive')"
      ]
    },
    {
      "cell_type": "markdown",
      "metadata": {
        "id": "dbCwr3zHDget"
      },
      "source": [
        "### Import the dataset from the google drive "
      ]
    },
    {
      "cell_type": "code",
      "execution_count": null,
      "metadata": {
        "colab": {
          "base_uri": "https://localhost:8080/",
          "height": 835
        },
        "id": "3SElZQiMDgnW",
        "outputId": "7891c53f-4bb5-45bc-dfa0-f0d8fa07cbcd"
      },
      "outputs": [
        {
          "name": "stderr",
          "output_type": "stream",
          "text": [
            "/usr/local/lib/python3.7/dist-packages/IPython/core/interactiveshell.py:2882: DtypeWarning: Columns (13) have mixed types.Specify dtype option on import or set low_memory=False.\n",
            "  exec(code_obj, self.user_global_ns, self.user_ns)\n"
          ]
        },
        {
          "data": {
            "text/html": [
              "\n",
              "  <div id=\"df-17c4ff0d-0e63-4c9b-a86c-5964dbe38e2b\">\n",
              "    <div class=\"colab-df-container\">\n",
              "      <div>\n",
              "<style scoped>\n",
              "    .dataframe tbody tr th:only-of-type {\n",
              "        vertical-align: middle;\n",
              "    }\n",
              "\n",
              "    .dataframe tbody tr th {\n",
              "        vertical-align: top;\n",
              "    }\n",
              "\n",
              "    .dataframe thead th {\n",
              "        text-align: right;\n",
              "    }\n",
              "</style>\n",
              "<table border=\"1\" class=\"dataframe\">\n",
              "  <thead>\n",
              "    <tr style=\"text-align: right;\">\n",
              "      <th></th>\n",
              "      <th>Unnamed: 0</th>\n",
              "      <th>company</th>\n",
              "      <th>level</th>\n",
              "      <th>title</th>\n",
              "      <th>totalyearlycompensation</th>\n",
              "      <th>location</th>\n",
              "      <th>yearsofexperience</th>\n",
              "      <th>yearsatcompany</th>\n",
              "      <th>tag</th>\n",
              "      <th>basesalary</th>\n",
              "      <th>stockgrantvalue</th>\n",
              "      <th>bonus</th>\n",
              "      <th>gender</th>\n",
              "      <th>cityid</th>\n",
              "      <th>ID</th>\n",
              "      <th>Race</th>\n",
              "      <th>Education</th>\n",
              "      <th>tag_truncated</th>\n",
              "      <th>year</th>\n",
              "      <th>country</th>\n",
              "    </tr>\n",
              "  </thead>\n",
              "  <tbody>\n",
              "    <tr>\n",
              "      <th>0</th>\n",
              "      <td>0</td>\n",
              "      <td>Oracle</td>\n",
              "      <td>L3</td>\n",
              "      <td>Product Manager</td>\n",
              "      <td>127000</td>\n",
              "      <td>Redwood City, CA</td>\n",
              "      <td>1.5</td>\n",
              "      <td>1.5</td>\n",
              "      <td>NaN</td>\n",
              "      <td>107000.0</td>\n",
              "      <td>20000.0</td>\n",
              "      <td>10000.0</td>\n",
              "      <td>Unavailable</td>\n",
              "      <td>7392</td>\n",
              "      <td>1</td>\n",
              "      <td>Unavailable</td>\n",
              "      <td>Unavailable</td>\n",
              "      <td>NaN</td>\n",
              "      <td>2017-01-01</td>\n",
              "      <td>US</td>\n",
              "    </tr>\n",
              "    <tr>\n",
              "      <th>1</th>\n",
              "      <td>1</td>\n",
              "      <td>eBay</td>\n",
              "      <td>SE 2</td>\n",
              "      <td>Software Engineer</td>\n",
              "      <td>100000</td>\n",
              "      <td>San Francisco, CA</td>\n",
              "      <td>5.0</td>\n",
              "      <td>3.0</td>\n",
              "      <td>NaN</td>\n",
              "      <td>0.0</td>\n",
              "      <td>0.0</td>\n",
              "      <td>0.0</td>\n",
              "      <td>Unavailable</td>\n",
              "      <td>7419</td>\n",
              "      <td>2</td>\n",
              "      <td>Unavailable</td>\n",
              "      <td>Unavailable</td>\n",
              "      <td>NaN</td>\n",
              "      <td>2017-01-01</td>\n",
              "      <td>US</td>\n",
              "    </tr>\n",
              "    <tr>\n",
              "      <th>2</th>\n",
              "      <td>2</td>\n",
              "      <td>Amazon</td>\n",
              "      <td>L7</td>\n",
              "      <td>Product Manager</td>\n",
              "      <td>310000</td>\n",
              "      <td>Seattle, WA</td>\n",
              "      <td>8.0</td>\n",
              "      <td>0.0</td>\n",
              "      <td>NaN</td>\n",
              "      <td>155000.0</td>\n",
              "      <td>0.0</td>\n",
              "      <td>0.0</td>\n",
              "      <td>Unavailable</td>\n",
              "      <td>11527</td>\n",
              "      <td>3</td>\n",
              "      <td>Unavailable</td>\n",
              "      <td>Unavailable</td>\n",
              "      <td>NaN</td>\n",
              "      <td>2017-01-01</td>\n",
              "      <td>US</td>\n",
              "    </tr>\n",
              "    <tr>\n",
              "      <th>3</th>\n",
              "      <td>3</td>\n",
              "      <td>Apple</td>\n",
              "      <td>M1</td>\n",
              "      <td>Software Engineering Manager</td>\n",
              "      <td>372000</td>\n",
              "      <td>Sunnyvale, CA</td>\n",
              "      <td>7.0</td>\n",
              "      <td>5.0</td>\n",
              "      <td>NaN</td>\n",
              "      <td>157000.0</td>\n",
              "      <td>180000.0</td>\n",
              "      <td>35000.0</td>\n",
              "      <td>Unavailable</td>\n",
              "      <td>7472</td>\n",
              "      <td>7</td>\n",
              "      <td>Unavailable</td>\n",
              "      <td>Unavailable</td>\n",
              "      <td>NaN</td>\n",
              "      <td>2017-01-01</td>\n",
              "      <td>US</td>\n",
              "    </tr>\n",
              "    <tr>\n",
              "      <th>4</th>\n",
              "      <td>4</td>\n",
              "      <td>Microsoft</td>\n",
              "      <td>60</td>\n",
              "      <td>Software Engineer</td>\n",
              "      <td>157000</td>\n",
              "      <td>Mountain View, CA</td>\n",
              "      <td>5.0</td>\n",
              "      <td>3.0</td>\n",
              "      <td>NaN</td>\n",
              "      <td>0.0</td>\n",
              "      <td>0.0</td>\n",
              "      <td>0.0</td>\n",
              "      <td>Unavailable</td>\n",
              "      <td>7322</td>\n",
              "      <td>9</td>\n",
              "      <td>Unavailable</td>\n",
              "      <td>Unavailable</td>\n",
              "      <td>NaN</td>\n",
              "      <td>2017-01-01</td>\n",
              "      <td>US</td>\n",
              "    </tr>\n",
              "    <tr>\n",
              "      <th>...</th>\n",
              "      <td>...</td>\n",
              "      <td>...</td>\n",
              "      <td>...</td>\n",
              "      <td>...</td>\n",
              "      <td>...</td>\n",
              "      <td>...</td>\n",
              "      <td>...</td>\n",
              "      <td>...</td>\n",
              "      <td>...</td>\n",
              "      <td>...</td>\n",
              "      <td>...</td>\n",
              "      <td>...</td>\n",
              "      <td>...</td>\n",
              "      <td>...</td>\n",
              "      <td>...</td>\n",
              "      <td>...</td>\n",
              "      <td>...</td>\n",
              "      <td>...</td>\n",
              "      <td>...</td>\n",
              "      <td>...</td>\n",
              "    </tr>\n",
              "    <tr>\n",
              "      <th>35319</th>\n",
              "      <td>35319</td>\n",
              "      <td>Amazon</td>\n",
              "      <td>L5</td>\n",
              "      <td>Software Engineer</td>\n",
              "      <td>213000</td>\n",
              "      <td>Seattle, WA</td>\n",
              "      <td>6.0</td>\n",
              "      <td>4.0</td>\n",
              "      <td>Distributed Systems (Back-End)</td>\n",
              "      <td>147500.0</td>\n",
              "      <td>38000.0</td>\n",
              "      <td>35000.0</td>\n",
              "      <td>Unavailable</td>\n",
              "      <td>11527</td>\n",
              "      <td>1843</td>\n",
              "      <td>Unavailable</td>\n",
              "      <td>Unavailable</td>\n",
              "      <td>Distributed Systems (Back-End)</td>\n",
              "      <td>2018-01-01</td>\n",
              "      <td>US</td>\n",
              "    </tr>\n",
              "    <tr>\n",
              "      <th>35320</th>\n",
              "      <td>35320</td>\n",
              "      <td>eBay</td>\n",
              "      <td>Designer III</td>\n",
              "      <td>Product Designer</td>\n",
              "      <td>172000</td>\n",
              "      <td>San Jose, CA</td>\n",
              "      <td>4.0</td>\n",
              "      <td>2.0</td>\n",
              "      <td>Design</td>\n",
              "      <td>142000.0</td>\n",
              "      <td>15000.0</td>\n",
              "      <td>14200.0</td>\n",
              "      <td>Unavailable</td>\n",
              "      <td>7422</td>\n",
              "      <td>1958</td>\n",
              "      <td>Unavailable</td>\n",
              "      <td>Unavailable</td>\n",
              "      <td>others</td>\n",
              "      <td>2018-01-01</td>\n",
              "      <td>US</td>\n",
              "    </tr>\n",
              "    <tr>\n",
              "      <th>35321</th>\n",
              "      <td>35321</td>\n",
              "      <td>Google</td>\n",
              "      <td>T4</td>\n",
              "      <td>Software Engineer</td>\n",
              "      <td>327000</td>\n",
              "      <td>Seattle, WA</td>\n",
              "      <td>10.0</td>\n",
              "      <td>1.0</td>\n",
              "      <td>Distributed Systems (Back-End)</td>\n",
              "      <td>155000.0</td>\n",
              "      <td>150000.0</td>\n",
              "      <td>22000.0</td>\n",
              "      <td>Unavailable</td>\n",
              "      <td>11527</td>\n",
              "      <td>1973</td>\n",
              "      <td>Unavailable</td>\n",
              "      <td>Unavailable</td>\n",
              "      <td>Distributed Systems (Back-End)</td>\n",
              "      <td>2018-01-01</td>\n",
              "      <td>US</td>\n",
              "    </tr>\n",
              "    <tr>\n",
              "      <th>35322</th>\n",
              "      <td>35322</td>\n",
              "      <td>Microsoft</td>\n",
              "      <td>62</td>\n",
              "      <td>Software Engineer</td>\n",
              "      <td>237000</td>\n",
              "      <td>Redmond, WA</td>\n",
              "      <td>2.0</td>\n",
              "      <td>2.0</td>\n",
              "      <td>Full Stack</td>\n",
              "      <td>146900.0</td>\n",
              "      <td>73200.0</td>\n",
              "      <td>16000.0</td>\n",
              "      <td>Unavailable</td>\n",
              "      <td>11521</td>\n",
              "      <td>2037</td>\n",
              "      <td>Unavailable</td>\n",
              "      <td>Unavailable</td>\n",
              "      <td>Full Stack</td>\n",
              "      <td>2018-01-01</td>\n",
              "      <td>US</td>\n",
              "    </tr>\n",
              "    <tr>\n",
              "      <th>35323</th>\n",
              "      <td>35323</td>\n",
              "      <td>Salesforce</td>\n",
              "      <td>Lead MTS</td>\n",
              "      <td>Software Engineer</td>\n",
              "      <td>280000</td>\n",
              "      <td>San Francisco, CA</td>\n",
              "      <td>8.0</td>\n",
              "      <td>4.0</td>\n",
              "      <td>iOS</td>\n",
              "      <td>194688.0</td>\n",
              "      <td>57000.0</td>\n",
              "      <td>29000.0</td>\n",
              "      <td>Unavailable</td>\n",
              "      <td>7419</td>\n",
              "      <td>2097</td>\n",
              "      <td>Unavailable</td>\n",
              "      <td>Unavailable</td>\n",
              "      <td>iOS</td>\n",
              "      <td>2018-01-01</td>\n",
              "      <td>US</td>\n",
              "    </tr>\n",
              "  </tbody>\n",
              "</table>\n",
              "<p>35324 rows × 20 columns</p>\n",
              "</div>\n",
              "      <button class=\"colab-df-convert\" onclick=\"convertToInteractive('df-17c4ff0d-0e63-4c9b-a86c-5964dbe38e2b')\"\n",
              "              title=\"Convert this dataframe to an interactive table.\"\n",
              "              style=\"display:none;\">\n",
              "        \n",
              "  <svg xmlns=\"http://www.w3.org/2000/svg\" height=\"24px\"viewBox=\"0 0 24 24\"\n",
              "       width=\"24px\">\n",
              "    <path d=\"M0 0h24v24H0V0z\" fill=\"none\"/>\n",
              "    <path d=\"M18.56 5.44l.94 2.06.94-2.06 2.06-.94-2.06-.94-.94-2.06-.94 2.06-2.06.94zm-11 1L8.5 8.5l.94-2.06 2.06-.94-2.06-.94L8.5 2.5l-.94 2.06-2.06.94zm10 10l.94 2.06.94-2.06 2.06-.94-2.06-.94-.94-2.06-.94 2.06-2.06.94z\"/><path d=\"M17.41 7.96l-1.37-1.37c-.4-.4-.92-.59-1.43-.59-.52 0-1.04.2-1.43.59L10.3 9.45l-7.72 7.72c-.78.78-.78 2.05 0 2.83L4 21.41c.39.39.9.59 1.41.59.51 0 1.02-.2 1.41-.59l7.78-7.78 2.81-2.81c.8-.78.8-2.07 0-2.86zM5.41 20L4 18.59l7.72-7.72 1.47 1.35L5.41 20z\"/>\n",
              "  </svg>\n",
              "      </button>\n",
              "      \n",
              "  <style>\n",
              "    .colab-df-container {\n",
              "      display:flex;\n",
              "      flex-wrap:wrap;\n",
              "      gap: 12px;\n",
              "    }\n",
              "\n",
              "    .colab-df-convert {\n",
              "      background-color: #E8F0FE;\n",
              "      border: none;\n",
              "      border-radius: 50%;\n",
              "      cursor: pointer;\n",
              "      display: none;\n",
              "      fill: #1967D2;\n",
              "      height: 32px;\n",
              "      padding: 0 0 0 0;\n",
              "      width: 32px;\n",
              "    }\n",
              "\n",
              "    .colab-df-convert:hover {\n",
              "      background-color: #E2EBFA;\n",
              "      box-shadow: 0px 1px 2px rgba(60, 64, 67, 0.3), 0px 1px 3px 1px rgba(60, 64, 67, 0.15);\n",
              "      fill: #174EA6;\n",
              "    }\n",
              "\n",
              "    [theme=dark] .colab-df-convert {\n",
              "      background-color: #3B4455;\n",
              "      fill: #D2E3FC;\n",
              "    }\n",
              "\n",
              "    [theme=dark] .colab-df-convert:hover {\n",
              "      background-color: #434B5C;\n",
              "      box-shadow: 0px 1px 3px 1px rgba(0, 0, 0, 0.15);\n",
              "      filter: drop-shadow(0px 1px 2px rgba(0, 0, 0, 0.3));\n",
              "      fill: #FFFFFF;\n",
              "    }\n",
              "  </style>\n",
              "\n",
              "      <script>\n",
              "        const buttonEl =\n",
              "          document.querySelector('#df-17c4ff0d-0e63-4c9b-a86c-5964dbe38e2b button.colab-df-convert');\n",
              "        buttonEl.style.display =\n",
              "          google.colab.kernel.accessAllowed ? 'block' : 'none';\n",
              "\n",
              "        async function convertToInteractive(key) {\n",
              "          const element = document.querySelector('#df-17c4ff0d-0e63-4c9b-a86c-5964dbe38e2b');\n",
              "          const dataTable =\n",
              "            await google.colab.kernel.invokeFunction('convertToInteractive',\n",
              "                                                     [key], {});\n",
              "          if (!dataTable) return;\n",
              "\n",
              "          const docLinkHtml = 'Like what you see? Visit the ' +\n",
              "            '<a target=\"_blank\" href=https://colab.research.google.com/notebooks/data_table.ipynb>data table notebook</a>'\n",
              "            + ' to learn more about interactive tables.';\n",
              "          element.innerHTML = '';\n",
              "          dataTable['output_type'] = 'display_data';\n",
              "          await google.colab.output.renderOutput(dataTable, element);\n",
              "          const docLink = document.createElement('div');\n",
              "          docLink.innerHTML = docLinkHtml;\n",
              "          element.appendChild(docLink);\n",
              "        }\n",
              "      </script>\n",
              "    </div>\n",
              "  </div>\n",
              "  "
            ],
            "text/plain": [
              "       Unnamed: 0     company         level                         title  \\\n",
              "0               0      Oracle            L3               Product Manager   \n",
              "1               1        eBay          SE 2             Software Engineer   \n",
              "2               2      Amazon            L7               Product Manager   \n",
              "3               3       Apple            M1  Software Engineering Manager   \n",
              "4               4   Microsoft            60             Software Engineer   \n",
              "...           ...         ...           ...                           ...   \n",
              "35319       35319      Amazon            L5             Software Engineer   \n",
              "35320       35320        eBay  Designer III              Product Designer   \n",
              "35321       35321      Google            T4             Software Engineer   \n",
              "35322       35322   Microsoft            62             Software Engineer   \n",
              "35323       35323  Salesforce      Lead MTS             Software Engineer   \n",
              "\n",
              "       totalyearlycompensation           location  yearsofexperience  \\\n",
              "0                       127000   Redwood City, CA                1.5   \n",
              "1                       100000  San Francisco, CA                5.0   \n",
              "2                       310000        Seattle, WA                8.0   \n",
              "3                       372000      Sunnyvale, CA                7.0   \n",
              "4                       157000  Mountain View, CA                5.0   \n",
              "...                        ...                ...                ...   \n",
              "35319                   213000        Seattle, WA                6.0   \n",
              "35320                   172000       San Jose, CA                4.0   \n",
              "35321                   327000        Seattle, WA               10.0   \n",
              "35322                   237000        Redmond, WA                2.0   \n",
              "35323                   280000  San Francisco, CA                8.0   \n",
              "\n",
              "       yearsatcompany                             tag  basesalary  \\\n",
              "0                 1.5                             NaN    107000.0   \n",
              "1                 3.0                             NaN         0.0   \n",
              "2                 0.0                             NaN    155000.0   \n",
              "3                 5.0                             NaN    157000.0   \n",
              "4                 3.0                             NaN         0.0   \n",
              "...               ...                             ...         ...   \n",
              "35319             4.0  Distributed Systems (Back-End)    147500.0   \n",
              "35320             2.0                          Design    142000.0   \n",
              "35321             1.0  Distributed Systems (Back-End)    155000.0   \n",
              "35322             2.0                      Full Stack    146900.0   \n",
              "35323             4.0                             iOS    194688.0   \n",
              "\n",
              "       stockgrantvalue    bonus       gender cityid    ID         Race  \\\n",
              "0              20000.0  10000.0  Unavailable   7392     1  Unavailable   \n",
              "1                  0.0      0.0  Unavailable   7419     2  Unavailable   \n",
              "2                  0.0      0.0  Unavailable  11527     3  Unavailable   \n",
              "3             180000.0  35000.0  Unavailable   7472     7  Unavailable   \n",
              "4                  0.0      0.0  Unavailable   7322     9  Unavailable   \n",
              "...                ...      ...          ...    ...   ...          ...   \n",
              "35319          38000.0  35000.0  Unavailable  11527  1843  Unavailable   \n",
              "35320          15000.0  14200.0  Unavailable   7422  1958  Unavailable   \n",
              "35321         150000.0  22000.0  Unavailable  11527  1973  Unavailable   \n",
              "35322          73200.0  16000.0  Unavailable  11521  2037  Unavailable   \n",
              "35323          57000.0  29000.0  Unavailable   7419  2097  Unavailable   \n",
              "\n",
              "         Education                   tag_truncated        year country  \n",
              "0      Unavailable                             NaN  2017-01-01      US  \n",
              "1      Unavailable                             NaN  2017-01-01      US  \n",
              "2      Unavailable                             NaN  2017-01-01      US  \n",
              "3      Unavailable                             NaN  2017-01-01      US  \n",
              "4      Unavailable                             NaN  2017-01-01      US  \n",
              "...            ...                             ...         ...     ...  \n",
              "35319  Unavailable  Distributed Systems (Back-End)  2018-01-01      US  \n",
              "35320  Unavailable                          others  2018-01-01      US  \n",
              "35321  Unavailable  Distributed Systems (Back-End)  2018-01-01      US  \n",
              "35322  Unavailable                      Full Stack  2018-01-01      US  \n",
              "35323  Unavailable                             iOS  2018-01-01      US  \n",
              "\n",
              "[35324 rows x 20 columns]"
            ]
          },
          "execution_count": 49,
          "metadata": {},
          "output_type": "execute_result"
        }
      ],
      "source": [
        "df=pd.read_csv(\"/content/drive/MyDrive/Hackathon/data_with_missing.csv\")\n",
        "df"
      ]
    },
    {
      "cell_type": "markdown",
      "metadata": {
        "id": "r-hqZtRsDgtZ"
      },
      "source": [
        "### Remove Unnamed 0 column "
      ]
    },
    {
      "cell_type": "code",
      "execution_count": null,
      "metadata": {
        "id": "K8h1P-0RDg9D"
      },
      "outputs": [],
      "source": [
        "df.drop(columns=[\"Unnamed: 0\", \"tag_truncated\", \"totalyearlycompensation\"], inplace=True)"
      ]
    },
    {
      "cell_type": "markdown",
      "metadata": {
        "id": "B9BXDNuNEfli"
      },
      "source": [
        "### Drop the row from city_id where anonymized is present"
      ]
    },
    {
      "cell_type": "code",
      "execution_count": null,
      "metadata": {
        "colab": {
          "base_uri": "https://localhost:8080/",
          "height": 641
        },
        "id": "xiGfWROWEfvA",
        "outputId": "4910a068-25f0-4d3f-8f94-9bb4dbac3bd5"
      },
      "outputs": [
        {
          "data": {
            "text/html": [
              "\n",
              "  <div id=\"df-1ef10f0a-f5a3-427e-a6e6-36e8d833837d\">\n",
              "    <div class=\"colab-df-container\">\n",
              "      <div>\n",
              "<style scoped>\n",
              "    .dataframe tbody tr th:only-of-type {\n",
              "        vertical-align: middle;\n",
              "    }\n",
              "\n",
              "    .dataframe tbody tr th {\n",
              "        vertical-align: top;\n",
              "    }\n",
              "\n",
              "    .dataframe thead th {\n",
              "        text-align: right;\n",
              "    }\n",
              "</style>\n",
              "<table border=\"1\" class=\"dataframe\">\n",
              "  <thead>\n",
              "    <tr style=\"text-align: right;\">\n",
              "      <th></th>\n",
              "      <th>company</th>\n",
              "      <th>level</th>\n",
              "      <th>title</th>\n",
              "      <th>location</th>\n",
              "      <th>yearsofexperience</th>\n",
              "      <th>yearsatcompany</th>\n",
              "      <th>tag</th>\n",
              "      <th>basesalary</th>\n",
              "      <th>stockgrantvalue</th>\n",
              "      <th>bonus</th>\n",
              "      <th>gender</th>\n",
              "      <th>cityid</th>\n",
              "      <th>ID</th>\n",
              "      <th>Race</th>\n",
              "      <th>Education</th>\n",
              "      <th>year</th>\n",
              "      <th>country</th>\n",
              "    </tr>\n",
              "  </thead>\n",
              "  <tbody>\n",
              "    <tr>\n",
              "      <th>0</th>\n",
              "      <td>Oracle</td>\n",
              "      <td>L3</td>\n",
              "      <td>Product Manager</td>\n",
              "      <td>Redwood City, CA</td>\n",
              "      <td>1.5</td>\n",
              "      <td>1.5</td>\n",
              "      <td>NaN</td>\n",
              "      <td>107000.0</td>\n",
              "      <td>20000.0</td>\n",
              "      <td>10000.0</td>\n",
              "      <td>Unavailable</td>\n",
              "      <td>7392</td>\n",
              "      <td>1</td>\n",
              "      <td>Unavailable</td>\n",
              "      <td>Unavailable</td>\n",
              "      <td>2017-01-01</td>\n",
              "      <td>US</td>\n",
              "    </tr>\n",
              "    <tr>\n",
              "      <th>1</th>\n",
              "      <td>eBay</td>\n",
              "      <td>SE 2</td>\n",
              "      <td>Software Engineer</td>\n",
              "      <td>San Francisco, CA</td>\n",
              "      <td>5.0</td>\n",
              "      <td>3.0</td>\n",
              "      <td>NaN</td>\n",
              "      <td>0.0</td>\n",
              "      <td>0.0</td>\n",
              "      <td>0.0</td>\n",
              "      <td>Unavailable</td>\n",
              "      <td>7419</td>\n",
              "      <td>2</td>\n",
              "      <td>Unavailable</td>\n",
              "      <td>Unavailable</td>\n",
              "      <td>2017-01-01</td>\n",
              "      <td>US</td>\n",
              "    </tr>\n",
              "    <tr>\n",
              "      <th>2</th>\n",
              "      <td>Amazon</td>\n",
              "      <td>L7</td>\n",
              "      <td>Product Manager</td>\n",
              "      <td>Seattle, WA</td>\n",
              "      <td>8.0</td>\n",
              "      <td>0.0</td>\n",
              "      <td>NaN</td>\n",
              "      <td>155000.0</td>\n",
              "      <td>0.0</td>\n",
              "      <td>0.0</td>\n",
              "      <td>Unavailable</td>\n",
              "      <td>11527</td>\n",
              "      <td>3</td>\n",
              "      <td>Unavailable</td>\n",
              "      <td>Unavailable</td>\n",
              "      <td>2017-01-01</td>\n",
              "      <td>US</td>\n",
              "    </tr>\n",
              "    <tr>\n",
              "      <th>3</th>\n",
              "      <td>Apple</td>\n",
              "      <td>M1</td>\n",
              "      <td>Software Engineering Manager</td>\n",
              "      <td>Sunnyvale, CA</td>\n",
              "      <td>7.0</td>\n",
              "      <td>5.0</td>\n",
              "      <td>NaN</td>\n",
              "      <td>157000.0</td>\n",
              "      <td>180000.0</td>\n",
              "      <td>35000.0</td>\n",
              "      <td>Unavailable</td>\n",
              "      <td>7472</td>\n",
              "      <td>7</td>\n",
              "      <td>Unavailable</td>\n",
              "      <td>Unavailable</td>\n",
              "      <td>2017-01-01</td>\n",
              "      <td>US</td>\n",
              "    </tr>\n",
              "    <tr>\n",
              "      <th>4</th>\n",
              "      <td>Microsoft</td>\n",
              "      <td>60</td>\n",
              "      <td>Software Engineer</td>\n",
              "      <td>Mountain View, CA</td>\n",
              "      <td>5.0</td>\n",
              "      <td>3.0</td>\n",
              "      <td>NaN</td>\n",
              "      <td>0.0</td>\n",
              "      <td>0.0</td>\n",
              "      <td>0.0</td>\n",
              "      <td>Unavailable</td>\n",
              "      <td>7322</td>\n",
              "      <td>9</td>\n",
              "      <td>Unavailable</td>\n",
              "      <td>Unavailable</td>\n",
              "      <td>2017-01-01</td>\n",
              "      <td>US</td>\n",
              "    </tr>\n",
              "    <tr>\n",
              "      <th>...</th>\n",
              "      <td>...</td>\n",
              "      <td>...</td>\n",
              "      <td>...</td>\n",
              "      <td>...</td>\n",
              "      <td>...</td>\n",
              "      <td>...</td>\n",
              "      <td>...</td>\n",
              "      <td>...</td>\n",
              "      <td>...</td>\n",
              "      <td>...</td>\n",
              "      <td>...</td>\n",
              "      <td>...</td>\n",
              "      <td>...</td>\n",
              "      <td>...</td>\n",
              "      <td>...</td>\n",
              "      <td>...</td>\n",
              "      <td>...</td>\n",
              "    </tr>\n",
              "    <tr>\n",
              "      <th>35319</th>\n",
              "      <td>Amazon</td>\n",
              "      <td>L5</td>\n",
              "      <td>Software Engineer</td>\n",
              "      <td>Seattle, WA</td>\n",
              "      <td>6.0</td>\n",
              "      <td>4.0</td>\n",
              "      <td>Distributed Systems (Back-End)</td>\n",
              "      <td>147500.0</td>\n",
              "      <td>38000.0</td>\n",
              "      <td>35000.0</td>\n",
              "      <td>Unavailable</td>\n",
              "      <td>11527</td>\n",
              "      <td>1843</td>\n",
              "      <td>Unavailable</td>\n",
              "      <td>Unavailable</td>\n",
              "      <td>2018-01-01</td>\n",
              "      <td>US</td>\n",
              "    </tr>\n",
              "    <tr>\n",
              "      <th>35320</th>\n",
              "      <td>eBay</td>\n",
              "      <td>Designer III</td>\n",
              "      <td>Product Designer</td>\n",
              "      <td>San Jose, CA</td>\n",
              "      <td>4.0</td>\n",
              "      <td>2.0</td>\n",
              "      <td>Design</td>\n",
              "      <td>142000.0</td>\n",
              "      <td>15000.0</td>\n",
              "      <td>14200.0</td>\n",
              "      <td>Unavailable</td>\n",
              "      <td>7422</td>\n",
              "      <td>1958</td>\n",
              "      <td>Unavailable</td>\n",
              "      <td>Unavailable</td>\n",
              "      <td>2018-01-01</td>\n",
              "      <td>US</td>\n",
              "    </tr>\n",
              "    <tr>\n",
              "      <th>35321</th>\n",
              "      <td>Google</td>\n",
              "      <td>T4</td>\n",
              "      <td>Software Engineer</td>\n",
              "      <td>Seattle, WA</td>\n",
              "      <td>10.0</td>\n",
              "      <td>1.0</td>\n",
              "      <td>Distributed Systems (Back-End)</td>\n",
              "      <td>155000.0</td>\n",
              "      <td>150000.0</td>\n",
              "      <td>22000.0</td>\n",
              "      <td>Unavailable</td>\n",
              "      <td>11527</td>\n",
              "      <td>1973</td>\n",
              "      <td>Unavailable</td>\n",
              "      <td>Unavailable</td>\n",
              "      <td>2018-01-01</td>\n",
              "      <td>US</td>\n",
              "    </tr>\n",
              "    <tr>\n",
              "      <th>35322</th>\n",
              "      <td>Microsoft</td>\n",
              "      <td>62</td>\n",
              "      <td>Software Engineer</td>\n",
              "      <td>Redmond, WA</td>\n",
              "      <td>2.0</td>\n",
              "      <td>2.0</td>\n",
              "      <td>Full Stack</td>\n",
              "      <td>146900.0</td>\n",
              "      <td>73200.0</td>\n",
              "      <td>16000.0</td>\n",
              "      <td>Unavailable</td>\n",
              "      <td>11521</td>\n",
              "      <td>2037</td>\n",
              "      <td>Unavailable</td>\n",
              "      <td>Unavailable</td>\n",
              "      <td>2018-01-01</td>\n",
              "      <td>US</td>\n",
              "    </tr>\n",
              "    <tr>\n",
              "      <th>35323</th>\n",
              "      <td>Salesforce</td>\n",
              "      <td>Lead MTS</td>\n",
              "      <td>Software Engineer</td>\n",
              "      <td>San Francisco, CA</td>\n",
              "      <td>8.0</td>\n",
              "      <td>4.0</td>\n",
              "      <td>iOS</td>\n",
              "      <td>194688.0</td>\n",
              "      <td>57000.0</td>\n",
              "      <td>29000.0</td>\n",
              "      <td>Unavailable</td>\n",
              "      <td>7419</td>\n",
              "      <td>2097</td>\n",
              "      <td>Unavailable</td>\n",
              "      <td>Unavailable</td>\n",
              "      <td>2018-01-01</td>\n",
              "      <td>US</td>\n",
              "    </tr>\n",
              "  </tbody>\n",
              "</table>\n",
              "<p>35323 rows × 17 columns</p>\n",
              "</div>\n",
              "      <button class=\"colab-df-convert\" onclick=\"convertToInteractive('df-1ef10f0a-f5a3-427e-a6e6-36e8d833837d')\"\n",
              "              title=\"Convert this dataframe to an interactive table.\"\n",
              "              style=\"display:none;\">\n",
              "        \n",
              "  <svg xmlns=\"http://www.w3.org/2000/svg\" height=\"24px\"viewBox=\"0 0 24 24\"\n",
              "       width=\"24px\">\n",
              "    <path d=\"M0 0h24v24H0V0z\" fill=\"none\"/>\n",
              "    <path d=\"M18.56 5.44l.94 2.06.94-2.06 2.06-.94-2.06-.94-.94-2.06-.94 2.06-2.06.94zm-11 1L8.5 8.5l.94-2.06 2.06-.94-2.06-.94L8.5 2.5l-.94 2.06-2.06.94zm10 10l.94 2.06.94-2.06 2.06-.94-2.06-.94-.94-2.06-.94 2.06-2.06.94z\"/><path d=\"M17.41 7.96l-1.37-1.37c-.4-.4-.92-.59-1.43-.59-.52 0-1.04.2-1.43.59L10.3 9.45l-7.72 7.72c-.78.78-.78 2.05 0 2.83L4 21.41c.39.39.9.59 1.41.59.51 0 1.02-.2 1.41-.59l7.78-7.78 2.81-2.81c.8-.78.8-2.07 0-2.86zM5.41 20L4 18.59l7.72-7.72 1.47 1.35L5.41 20z\"/>\n",
              "  </svg>\n",
              "      </button>\n",
              "      \n",
              "  <style>\n",
              "    .colab-df-container {\n",
              "      display:flex;\n",
              "      flex-wrap:wrap;\n",
              "      gap: 12px;\n",
              "    }\n",
              "\n",
              "    .colab-df-convert {\n",
              "      background-color: #E8F0FE;\n",
              "      border: none;\n",
              "      border-radius: 50%;\n",
              "      cursor: pointer;\n",
              "      display: none;\n",
              "      fill: #1967D2;\n",
              "      height: 32px;\n",
              "      padding: 0 0 0 0;\n",
              "      width: 32px;\n",
              "    }\n",
              "\n",
              "    .colab-df-convert:hover {\n",
              "      background-color: #E2EBFA;\n",
              "      box-shadow: 0px 1px 2px rgba(60, 64, 67, 0.3), 0px 1px 3px 1px rgba(60, 64, 67, 0.15);\n",
              "      fill: #174EA6;\n",
              "    }\n",
              "\n",
              "    [theme=dark] .colab-df-convert {\n",
              "      background-color: #3B4455;\n",
              "      fill: #D2E3FC;\n",
              "    }\n",
              "\n",
              "    [theme=dark] .colab-df-convert:hover {\n",
              "      background-color: #434B5C;\n",
              "      box-shadow: 0px 1px 3px 1px rgba(0, 0, 0, 0.15);\n",
              "      filter: drop-shadow(0px 1px 2px rgba(0, 0, 0, 0.3));\n",
              "      fill: #FFFFFF;\n",
              "    }\n",
              "  </style>\n",
              "\n",
              "      <script>\n",
              "        const buttonEl =\n",
              "          document.querySelector('#df-1ef10f0a-f5a3-427e-a6e6-36e8d833837d button.colab-df-convert');\n",
              "        buttonEl.style.display =\n",
              "          google.colab.kernel.accessAllowed ? 'block' : 'none';\n",
              "\n",
              "        async function convertToInteractive(key) {\n",
              "          const element = document.querySelector('#df-1ef10f0a-f5a3-427e-a6e6-36e8d833837d');\n",
              "          const dataTable =\n",
              "            await google.colab.kernel.invokeFunction('convertToInteractive',\n",
              "                                                     [key], {});\n",
              "          if (!dataTable) return;\n",
              "\n",
              "          const docLinkHtml = 'Like what you see? Visit the ' +\n",
              "            '<a target=\"_blank\" href=https://colab.research.google.com/notebooks/data_table.ipynb>data table notebook</a>'\n",
              "            + ' to learn more about interactive tables.';\n",
              "          element.innerHTML = '';\n",
              "          dataTable['output_type'] = 'display_data';\n",
              "          await google.colab.output.renderOutput(dataTable, element);\n",
              "          const docLink = document.createElement('div');\n",
              "          docLink.innerHTML = docLinkHtml;\n",
              "          element.appendChild(docLink);\n",
              "        }\n",
              "      </script>\n",
              "    </div>\n",
              "  </div>\n",
              "  "
            ],
            "text/plain": [
              "          company         level                         title  \\\n",
              "0          Oracle            L3               Product Manager   \n",
              "1            eBay          SE 2             Software Engineer   \n",
              "2          Amazon            L7               Product Manager   \n",
              "3           Apple            M1  Software Engineering Manager   \n",
              "4       Microsoft            60             Software Engineer   \n",
              "...           ...           ...                           ...   \n",
              "35319      Amazon            L5             Software Engineer   \n",
              "35320        eBay  Designer III              Product Designer   \n",
              "35321      Google            T4             Software Engineer   \n",
              "35322   Microsoft            62             Software Engineer   \n",
              "35323  Salesforce      Lead MTS             Software Engineer   \n",
              "\n",
              "                location  yearsofexperience  yearsatcompany  \\\n",
              "0       Redwood City, CA                1.5             1.5   \n",
              "1      San Francisco, CA                5.0             3.0   \n",
              "2            Seattle, WA                8.0             0.0   \n",
              "3          Sunnyvale, CA                7.0             5.0   \n",
              "4      Mountain View, CA                5.0             3.0   \n",
              "...                  ...                ...             ...   \n",
              "35319        Seattle, WA                6.0             4.0   \n",
              "35320       San Jose, CA                4.0             2.0   \n",
              "35321        Seattle, WA               10.0             1.0   \n",
              "35322        Redmond, WA                2.0             2.0   \n",
              "35323  San Francisco, CA                8.0             4.0   \n",
              "\n",
              "                                  tag  basesalary  stockgrantvalue    bonus  \\\n",
              "0                                 NaN    107000.0          20000.0  10000.0   \n",
              "1                                 NaN         0.0              0.0      0.0   \n",
              "2                                 NaN    155000.0              0.0      0.0   \n",
              "3                                 NaN    157000.0         180000.0  35000.0   \n",
              "4                                 NaN         0.0              0.0      0.0   \n",
              "...                               ...         ...              ...      ...   \n",
              "35319  Distributed Systems (Back-End)    147500.0          38000.0  35000.0   \n",
              "35320                          Design    142000.0          15000.0  14200.0   \n",
              "35321  Distributed Systems (Back-End)    155000.0         150000.0  22000.0   \n",
              "35322                      Full Stack    146900.0          73200.0  16000.0   \n",
              "35323                             iOS    194688.0          57000.0  29000.0   \n",
              "\n",
              "            gender cityid    ID         Race    Education        year country  \n",
              "0      Unavailable   7392     1  Unavailable  Unavailable  2017-01-01      US  \n",
              "1      Unavailable   7419     2  Unavailable  Unavailable  2017-01-01      US  \n",
              "2      Unavailable  11527     3  Unavailable  Unavailable  2017-01-01      US  \n",
              "3      Unavailable   7472     7  Unavailable  Unavailable  2017-01-01      US  \n",
              "4      Unavailable   7322     9  Unavailable  Unavailable  2017-01-01      US  \n",
              "...            ...    ...   ...          ...          ...         ...     ...  \n",
              "35319  Unavailable  11527  1843  Unavailable  Unavailable  2018-01-01      US  \n",
              "35320  Unavailable   7422  1958  Unavailable  Unavailable  2018-01-01      US  \n",
              "35321  Unavailable  11527  1973  Unavailable  Unavailable  2018-01-01      US  \n",
              "35322  Unavailable  11521  2037  Unavailable  Unavailable  2018-01-01      US  \n",
              "35323  Unavailable   7419  2097  Unavailable  Unavailable  2018-01-01      US  \n",
              "\n",
              "[35323 rows x 17 columns]"
            ]
          },
          "execution_count": 51,
          "metadata": {},
          "output_type": "execute_result"
        }
      ],
      "source": [
        "i = df[(df.cityid == 'anonymized')].index\n",
        "df.drop(i, inplace=True)\n",
        "df"
      ]
    },
    {
      "cell_type": "markdown",
      "metadata": {
        "id": "cx3LIxo7gTgv"
      },
      "source": [
        "### Replace all the tags that have a cout less than 100 with Other"
      ]
    },
    {
      "cell_type": "code",
      "execution_count": null,
      "metadata": {
        "colab": {
          "base_uri": "https://localhost:8080/"
        },
        "id": "t2MsLfGkgQ0O",
        "outputId": "9bf71b14-47d8-4b65-bfa6-b7d6f6888801"
      },
      "outputs": [
        {
          "data": {
            "text/plain": [
              "Distributed Systems (Back-End)    6745\n",
              "Other                             6023\n",
              "Full Stack                        5788\n",
              "API Development (Back-End)        3281\n",
              "ML / AI                           2937\n",
              "Web Development (Front-End)       1458\n",
              "Product                           1048\n",
              "iOS                                791\n",
              "DevOps                             743\n",
              "Data                               737\n",
              "Security                           721\n",
              "Networking                         683\n",
              "Android                            604\n",
              "Mobile (iOS + Android)             563\n",
              "Technical                          479\n",
              "Testing (SDET)                     409\n",
              "User Experience (UX)               395\n",
              "Site Reliability (SRE)             360\n",
              "General                            352\n",
              "Production                         205\n",
              "Operations                         189\n",
              "Consumer                           182\n",
              "Enterprise                         182\n",
              "Hardware                           163\n",
              "ASIC Design                        149\n",
              "Cloud                              136\n",
              "Name: tag, dtype: int64"
            ]
          },
          "execution_count": 52,
          "metadata": {},
          "output_type": "execute_result"
        }
      ],
      "source": [
        "tag= df[\"tag\"].value_counts()\n",
        "df[\"tag\"]= np.where(df[\"tag\"].isin(tag.index[tag>100]), df[\"tag\"], \"Other\")\n",
        "df[\"tag\"].value_counts()"
      ]
    },
    {
      "cell_type": "markdown",
      "metadata": {
        "id": "bvSs4hrfgQ8Z"
      },
      "source": [
        "### Replace all the levels that have a count less than 100 with Other"
      ]
    },
    {
      "cell_type": "code",
      "execution_count": null,
      "metadata": {
        "colab": {
          "base_uri": "https://localhost:8080/"
        },
        "id": "T7rVdrQ-gRDz",
        "outputId": "5025ecc7-adc2-4e5f-ec7e-fee2acede65d"
      },
      "outputs": [
        {
          "data": {
            "text/plain": [
              "Other     7720\n",
              "L5        3432\n",
              "L4        3201\n",
              "L6        2080\n",
              "L3        1578\n",
              "          ... \n",
              "Band 7     103\n",
              "4          103\n",
              "6          103\n",
              "5          102\n",
              "L5A        101\n",
              "Name: level, Length: 69, dtype: int64"
            ]
          },
          "execution_count": 53,
          "metadata": {},
          "output_type": "execute_result"
        }
      ],
      "source": [
        "level= df[\"level\"].value_counts()\n",
        "df[\"level\"]= np.where(df[\"level\"].isin(level.index[level>100]), df[\"level\"], \"Other\")\n",
        "df[\"level\"].value_counts()"
      ]
    },
    {
      "cell_type": "markdown",
      "metadata": {
        "id": "mnlpVJSCDg1s"
      },
      "source": [
        "### Unmount from google drive"
      ]
    },
    {
      "cell_type": "code",
      "execution_count": null,
      "metadata": {
        "id": "zCwwmUvqEM3v"
      },
      "outputs": [],
      "source": [
        "# drive.flush_and_unmount()"
      ]
    },
    {
      "cell_type": "markdown",
      "metadata": {
        "id": "cvGs6cUqENtz"
      },
      "source": [
        "### Define the function that will prepare the model for ML"
      ]
    },
    {
      "cell_type": "code",
      "execution_count": null,
      "metadata": {
        "id": "Q5HGlJPtEN8f"
      },
      "outputs": [],
      "source": [
        "def modelPreperation(dataSet):\n",
        "  dataSet.dropna(inplace=True)\n",
        "  dataSet=pd.get_dummies(dataSet, columns=[\"title\",\"company\", \"level\", \"location\", \"tag\", \"gender\", \"Race\", \"Education\", \"country\"])\n",
        "  dataSet[\"year\"]=dataSet[\"year\"].str[:4].astype(int)\n",
        "  return dataSet"
      ]
    },
    {
      "cell_type": "markdown",
      "metadata": {
        "id": "gX3BJt2yPZ1Y"
      },
      "source": [
        "### Define a function that would Split the dataset between X and y "
      ]
    },
    {
      "cell_type": "code",
      "execution_count": null,
      "metadata": {
        "id": "x4pRIggCPZ9t"
      },
      "outputs": [],
      "source": [
        "def splitter(df, Ycol):\n",
        "    # This function takes a dataset and splits it between the independent columns and the dependent column\n",
        "    # df is a pandas dataframe\n",
        "    # Ycol is a string representing the column to split \n",
        "    return df.loc[:, df.columns != Ycol], df[Ycol]"
      ]
    },
    {
      "cell_type": "markdown",
      "metadata": {
        "id": "HJlEjUjWEOHk"
      },
      "source": [
        "### Divide the dataset between train and test"
      ]
    },
    {
      "cell_type": "code",
      "execution_count": null,
      "metadata": {
        "id": "pcuUzb4DEOTR"
      },
      "outputs": [],
      "source": [
        "train = df.sample(frac = 0.8, random_state=7)\n",
        "test = df.drop(train.index)"
      ]
    },
    {
      "cell_type": "markdown",
      "metadata": {
        "id": "2Kd9dZJ-Goc4"
      },
      "source": [
        "### Create the synthesize train set "
      ]
    },
    {
      "cell_type": "markdown",
      "metadata": {
        "id": "FQUxpIBwHXq3"
      },
      "source": [
        "1-Define the metadata"
      ]
    },
    {
      "cell_type": "code",
      "execution_count": null,
      "metadata": {
        "id": "BwCDcJmFGovZ"
      },
      "outputs": [],
      "source": [
        "Metadata= {'fields':\n",
        "           {'company': {'type': 'categorical'},\n",
        "            'level': {'type': 'categorical'},\n",
        "            'title': {'type': 'categorical'},\n",
        "            'totalyearlycompensation': {'type': 'numerical', 'subtype': 'float'},\n",
        "            'location': {'type': 'categorical'},\n",
        "            'yearsofexperience': {'type': 'numerical', 'subtype': 'float'},\n",
        "            'yearsatcompany': {'type': 'numerical', 'subtype': 'float'},\n",
        "            'tag': {'type': 'categorical'},\n",
        "            'basesalary': {'type': 'numerical', 'subtype': 'float'},\n",
        "            'stockgrantvalue': {'type': 'numerical', 'subtype': 'float'},\n",
        "            'bonus': {'type': 'numerical', 'subtype': 'float'},\n",
        "            'gender': {'type': 'categorical'},\n",
        "            'cityid': {'type': 'categorical'},\n",
        "            'ID': {'type': 'categorical'},\n",
        "            'Race': {'type': 'categorical'},\n",
        "            'Education': {'type': 'categorical'},\n",
        "            'year': {'type': 'categorical'},\n",
        "            'country': {'type': 'categorical'}\n",
        "            },\n",
        "           \n",
        "           'constraints': [],\n",
        "           \"primary_key\": []}"
      ]
    },
    {
      "cell_type": "markdown",
      "metadata": {
        "id": "pHQQNz_yHr0K"
      },
      "source": [
        "2- Choose the synthesizer model"
      ]
    },
    {
      "cell_type": "code",
      "execution_count": null,
      "metadata": {
        "id": "tGWU4H34H2D6"
      },
      "outputs": [],
      "source": [
        "model = CTGAN()"
      ]
    },
    {
      "cell_type": "markdown",
      "metadata": {
        "id": "J29IpmPTH3fy"
      },
      "source": [
        "3- Fit the chosen model "
      ]
    },
    {
      "cell_type": "code",
      "execution_count": null,
      "metadata": {
        "colab": {
          "background_save": true,
          "base_uri": "https://localhost:8080/"
        },
        "id": "ljxU_xmZH3rM",
        "outputId": "70503834-5669-4669-b66d-70637c6119d8"
      },
      "outputs": [
        {
          "name": "stderr",
          "output_type": "stream",
          "text": [
            "/usr/local/lib/python3.7/dist-packages/sklearn/mixture/_base.py:282: ConvergenceWarning: Initialization 1 did not converge. Try different init parameters, or increase max_iter, tol or check for degenerate data.\n",
            "  ConvergenceWarning,\n",
            "/usr/local/lib/python3.7/dist-packages/sklearn/mixture/_base.py:282: ConvergenceWarning: Initialization 1 did not converge. Try different init parameters, or increase max_iter, tol or check for degenerate data.\n",
            "  ConvergenceWarning,\n",
            "/usr/local/lib/python3.7/dist-packages/sklearn/mixture/_base.py:282: ConvergenceWarning: Initialization 1 did not converge. Try different init parameters, or increase max_iter, tol or check for degenerate data.\n",
            "  ConvergenceWarning,\n",
            "/usr/local/lib/python3.7/dist-packages/sklearn/mixture/_base.py:282: ConvergenceWarning: Initialization 1 did not converge. Try different init parameters, or increase max_iter, tol or check for degenerate data.\n",
            "  ConvergenceWarning,\n",
            "/usr/local/lib/python3.7/dist-packages/sklearn/mixture/_base.py:282: ConvergenceWarning: Initialization 1 did not converge. Try different init parameters, or increase max_iter, tol or check for degenerate data.\n",
            "  ConvergenceWarning,\n",
            "/usr/local/lib/python3.7/dist-packages/sklearn/mixture/_base.py:282: ConvergenceWarning: Initialization 1 did not converge. Try different init parameters, or increase max_iter, tol or check for degenerate data.\n",
            "  ConvergenceWarning,\n",
            "/usr/local/lib/python3.7/dist-packages/ctgan/data_transformer.py:111: SettingWithCopyWarning: \n",
            "A value is trying to be set on a copy of a slice from a DataFrame.\n",
            "Try using .loc[row_indexer,col_indexer] = value instead\n",
            "\n",
            "See the caveats in the documentation: https://pandas.pydata.org/pandas-docs/stable/user_guide/indexing.html#returning-a-view-versus-a-copy\n",
            "  data[column_name] = data[column_name].to_numpy().flatten()\n",
            "/usr/local/lib/python3.7/dist-packages/ctgan/data_transformer.py:111: SettingWithCopyWarning: \n",
            "A value is trying to be set on a copy of a slice from a DataFrame.\n",
            "Try using .loc[row_indexer,col_indexer] = value instead\n",
            "\n",
            "See the caveats in the documentation: https://pandas.pydata.org/pandas-docs/stable/user_guide/indexing.html#returning-a-view-versus-a-copy\n",
            "  data[column_name] = data[column_name].to_numpy().flatten()\n",
            "/usr/local/lib/python3.7/dist-packages/ctgan/data_transformer.py:111: SettingWithCopyWarning: \n",
            "A value is trying to be set on a copy of a slice from a DataFrame.\n",
            "Try using .loc[row_indexer,col_indexer] = value instead\n",
            "\n",
            "See the caveats in the documentation: https://pandas.pydata.org/pandas-docs/stable/user_guide/indexing.html#returning-a-view-versus-a-copy\n",
            "  data[column_name] = data[column_name].to_numpy().flatten()\n",
            "/usr/local/lib/python3.7/dist-packages/ctgan/data_transformer.py:111: SettingWithCopyWarning: \n",
            "A value is trying to be set on a copy of a slice from a DataFrame.\n",
            "Try using .loc[row_indexer,col_indexer] = value instead\n",
            "\n",
            "See the caveats in the documentation: https://pandas.pydata.org/pandas-docs/stable/user_guide/indexing.html#returning-a-view-versus-a-copy\n",
            "  data[column_name] = data[column_name].to_numpy().flatten()\n",
            "/usr/local/lib/python3.7/dist-packages/ctgan/data_transformer.py:111: SettingWithCopyWarning: \n",
            "A value is trying to be set on a copy of a slice from a DataFrame.\n",
            "Try using .loc[row_indexer,col_indexer] = value instead\n",
            "\n",
            "See the caveats in the documentation: https://pandas.pydata.org/pandas-docs/stable/user_guide/indexing.html#returning-a-view-versus-a-copy\n",
            "  data[column_name] = data[column_name].to_numpy().flatten()\n",
            "/usr/local/lib/python3.7/dist-packages/ctgan/data_transformer.py:111: SettingWithCopyWarning: \n",
            "A value is trying to be set on a copy of a slice from a DataFrame.\n",
            "Try using .loc[row_indexer,col_indexer] = value instead\n",
            "\n",
            "See the caveats in the documentation: https://pandas.pydata.org/pandas-docs/stable/user_guide/indexing.html#returning-a-view-versus-a-copy\n",
            "  data[column_name] = data[column_name].to_numpy().flatten()\n"
          ]
        }
      ],
      "source": [
        "model.fit(train)"
      ]
    },
    {
      "cell_type": "markdown",
      "metadata": {
        "id": "kTJPXjMvIAht"
      },
      "source": [
        "4- Create the synthetic dataset"
      ]
    },
    {
      "cell_type": "code",
      "execution_count": null,
      "metadata": {
        "id": "1EkVkxLmIAra"
      },
      "outputs": [],
      "source": [
        "train_s = model.sample(num_rows=len(train))\n",
        "train_s"
      ]
    },
    {
      "cell_type": "code",
      "execution_count": null,
      "metadata": {
        "id": "HVKXzZKTRpUy"
      },
      "outputs": [],
      "source": [
        "train_save=train_s.copy()"
      ]
    },
    {
      "cell_type": "markdown",
      "metadata": {
        "id": "cGdxyA-lr6lF"
      },
      "source": [
        "### Append train_s and df"
      ]
    },
    {
      "cell_type": "markdown",
      "metadata": {
        "id": "JLeDiOoarEj2"
      },
      "source": [
        "1- Create a new column in train_s and df to be able to seperate them later on "
      ]
    },
    {
      "cell_type": "code",
      "execution_count": null,
      "metadata": {
        "id": "dYu6e7BZrEl5"
      },
      "outputs": [],
      "source": [
        "df[\"Table_number\"]=0\n",
        "train_s[\"Table_number\"]=1 \n",
        "print(df.columns, train_s.columns)"
      ]
    },
    {
      "cell_type": "markdown",
      "metadata": {
        "id": "yB7ZnaUcrEqj"
      },
      "source": [
        "2- Append train_s and df "
      ]
    },
    {
      "cell_type": "code",
      "execution_count": null,
      "metadata": {
        "id": "Ja6KjgTirEsu"
      },
      "outputs": [],
      "source": [
        "df_appended= df.append(train_s, ignore_index=True)\n",
        "df_appended"
      ]
    },
    {
      "cell_type": "markdown",
      "metadata": {
        "id": "inGpnYCKswoj"
      },
      "source": [
        "3- Prepare the dataframe for the machine learning model"
      ]
    },
    {
      "cell_type": "code",
      "execution_count": null,
      "metadata": {
        "id": "0lgI47tWv-Zq"
      },
      "outputs": [],
      "source": [
        "df_appended= modelPreperation(df_appended)\n",
        "df_appended"
      ]
    },
    {
      "cell_type": "markdown",
      "metadata": {
        "id": "cEBq889Gv-RU"
      },
      "source": [
        "4- Split the dataset between train_s and df"
      ]
    },
    {
      "cell_type": "code",
      "execution_count": null,
      "metadata": {
        "id": "3-46uViMv-Bp"
      },
      "outputs": [],
      "source": [
        "df= df_appended[df_appended[\"Table_number\"]==0]\n",
        "df"
      ]
    },
    {
      "cell_type": "code",
      "execution_count": null,
      "metadata": {
        "id": "TydASdUgsw1D"
      },
      "outputs": [],
      "source": [
        "train_s= df_appended[df_appended[\"Table_number\"]==1]\n",
        "train_s"
      ]
    },
    {
      "cell_type": "markdown",
      "metadata": {
        "id": "pMilBjsozemI"
      },
      "source": [
        "5- Remove the table number column"
      ]
    },
    {
      "cell_type": "code",
      "execution_count": null,
      "metadata": {
        "id": "Ue4AlgK-zewy"
      },
      "outputs": [],
      "source": [
        "df.drop(columns=[\"Table_number\"], inplace=True)\n",
        "train_s.drop(columns=[\"Table_number\"], inplace=True)"
      ]
    },
    {
      "cell_type": "markdown",
      "metadata": {
        "id": "8xcwSXqQpbIA"
      },
      "source": [
        "### Split df between the train part and the test part"
      ]
    },
    {
      "cell_type": "code",
      "execution_count": null,
      "metadata": {
        "id": "qHLd85QGpa9E"
      },
      "outputs": [],
      "source": [
        "train = df.sample(frac = 0.8, random_state=7)\n",
        "test = df.drop(train.index)"
      ]
    },
    {
      "cell_type": "markdown",
      "metadata": {
        "id": "bP-kI80DEOhO"
      },
      "source": [
        "### Split train, train_s and test\n",
        "\n",
        "*   X_train and y_train\n",
        "*   X_train_s and y_train_s\n",
        "*   X_test and y_test"
      ]
    },
    {
      "cell_type": "code",
      "execution_count": null,
      "metadata": {
        "id": "YK8mf7feEOqZ"
      },
      "outputs": [],
      "source": [
        "X_train, y_train= splitter(train, \"basesalary\")\n",
        "X_train_s, y_train_s= splitter(train_s, \"basesalary\")\n",
        "X_test, y_test= splitter(test, \"basesalary\")"
      ]
    },
    {
      "cell_type": "markdown",
      "metadata": {
        "id": "Zhe61yE7S0pL"
      },
      "source": [
        "### Score the diffent machine learning models"
      ]
    },
    {
      "cell_type": "markdown",
      "metadata": {
        "id": "rpYYB3NhS_Ji"
      },
      "source": [
        "1- Create a list and assign a random seed"
      ]
    },
    {
      "cell_type": "code",
      "execution_count": null,
      "metadata": {
        "id": "Y-onerx4QBWc"
      },
      "outputs": [],
      "source": [
        "pipeline=[]\n",
        "seed=7"
      ]
    },
    {
      "cell_type": "markdown",
      "metadata": {
        "id": "DocGbkzdTLJe"
      },
      "source": [
        "2- Create the machine learning models that are going to be used "
      ]
    },
    {
      "cell_type": "code",
      "execution_count": null,
      "metadata": {
        "id": "H_F6cnjyRNU5"
      },
      "outputs": [],
      "source": [
        "Lasso = Pipeline([('scaler', StandardScaler()), ('Lasso', ElasticNet(random_state=seed))])\n",
        "Ridge = Pipeline([('scaler', StandardScaler()), ('Ridge', Ridge(random_state=seed, tol=10))])\n",
        "ExtraTreesRegressor = Pipeline([(\"Scaler\", StandardScaler()),(\"ET\", ExtraTreesRegressor(random_state=seed))])\n",
        "BaggingRegressor = Pipeline([(\"Scaler\", StandardScaler()),(\"BR\", BaggingRegressor(random_state=seed))])\n",
        "HuberRegressor = Pipeline([(\"Scaler\", StandardScaler()),(\"Hub-Reg\", HuberRegressor())])\n",
        "BayesianRidge = Pipeline([(\"Scaler\", StandardScaler()),(\"BR\", BayesianRidge())])\n",
        "DecisionTreeRegressor = Pipeline([(\"Scaler\", StandardScaler()),(\"DT_reg\", DecisionTreeRegressor())])\n",
        "KNeighborsRegressor = Pipeline([(\"Scaler\", StandardScaler()),(\"KNN_reg\", KNeighborsRegressor())])\n",
        "GradientBoostingRegressor =  Pipeline([(\"Scaler\", StandardScaler()),(\"GBoost-Reg\", GradientBoostingRegressor())])\n",
        "                 \n"
      ]
    },
    {
      "cell_type": "markdown",
      "metadata": {
        "id": "xC_3uB78TbQX"
      },
      "source": [
        "3- Append the list with the models and their names"
      ]
    },
    {
      "cell_type": "code",
      "execution_count": null,
      "metadata": {
        "id": "u_ilI9jiTWvc"
      },
      "outputs": [],
      "source": [
        "pipeline.append((\"Lasso\",Lasso))\n",
        "pipeline.append((\"Ridge\",Ridge))\n",
        "pipeline.append((\"ExtraTreesRegressor\",ExtraTreesRegressor)) \n",
        "pipeline.append((\"BaggingRegressor\",BaggingRegressor)) \n",
        "pipeline.append((\"HuberRegressor\",HuberRegressor)) \n",
        "pipeline.append((\"BayesianRidge\",BayesianRidge)) \n",
        "pipeline.append((\"DecisionTreeRegressor\",DecisionTreeRegressor)) \n",
        "pipeline.append((\"KNeighborsRegressor\",KNeighborsRegressor)) \n",
        "pipeline.append((\"GradientBoostingRegressor\",GradientBoostingRegressor)) "
      ]
    },
    {
      "cell_type": "markdown",
      "metadata": {
        "id": "77c_AZBRT_8J"
      },
      "source": [
        "4- Define the parameters of the cross validation"
      ]
    },
    {
      "cell_type": "code",
      "execution_count": null,
      "metadata": {
        "id": "pXdfePFHTtfC"
      },
      "outputs": [],
      "source": [
        "n_folds = 3\n",
        "kfold = KFold(n_splits=n_folds, random_state=seed,shuffle=True)"
      ]
    },
    {
      "cell_type": "markdown",
      "metadata": {
        "id": "4BJsRWyRUKRR"
      },
      "source": [
        "### Print the cross validated results of:\n",
        "\n",
        "\n",
        "1.   Cross validated train \n",
        "2.   Cross validated train_s\n",
        "3.   train on test \n",
        "4.   train_s on test\n",
        "\n",
        "\n",
        "\n",
        "\n",
        "\n",
        "\n"
      ]
    },
    {
      "cell_type": "code",
      "execution_count": null,
      "metadata": {
        "id": "EsrUq5WxWiIl"
      },
      "outputs": [],
      "source": [
        "pipeline"
      ]
    },
    {
      "cell_type": "code",
      "execution_count": null,
      "metadata": {
        "id": "qpJCzCRylnCt"
      },
      "outputs": [],
      "source": [
        "list_df=[]\n",
        "for name, models in pipeline:\n",
        "\n",
        "    # Train score mean \n",
        "    cv_results_train = cross_val_score(models, X_train, y_train, cv= kfold, scoring='r2')\n",
        "    Train_score_mean= cv_results_train.mean()\n",
        "    # Train score standard deviation \n",
        "    Train_score_std= cv_results_train.std()\n",
        "    # Test score \n",
        "    models.fit(X_train, y_train)\n",
        "    Test= models.score(X_test, y_test)\n",
        "    \n",
        "    # Train_s score mean\n",
        "    cv_results_train_s = cross_val_score(models, X_train_s, y_train_s, cv= kfold, scoring='r2')\n",
        "    Train_s_score_mean= cv_results_train_s.mean()\n",
        "    # Train_s standard deviation\n",
        "    Train_s_score_std= cv_results_train_s.std()\n",
        "    # Test_s score \n",
        "    models.fit(X_train_s, y_train_s)\n",
        "    Test_s= models.score(X_test, y_test)\n",
        "\n",
        "    list_df.append([name,Train_score_mean, Train_score_std, Test, Train_s_score_mean, Train_s_score_std, Test_s])"
      ]
    },
    {
      "cell_type": "code",
      "execution_count": null,
      "metadata": {
        "id": "8CIJWKVcTJY4"
      },
      "outputs": [],
      "source": [
        "Scores=pd.DataFrame(list_df, columns=[\"Model_Name\", \"Train_score_Mean\", \"Train_score_STD\", \"Train_score_Test\", \"Train_synthetic_Mean\", \"Train_synthetic_STD\", \"Train_synthetic_score_Test\"])"
      ]
    },
    {
      "cell_type": "code",
      "execution_count": null,
      "metadata": {
        "id": "Ei9LLmjdQbGj"
      },
      "outputs": [],
      "source": [
        "Scores"
      ]
    }
  ],
  "metadata": {
    "colab": {
      "provenance": [],
      "authorship_tag": "ABX9TyOzkDgcdx+zFA9Sg+pdchjg",
      "include_colab_link": true
    },
    "kernelspec": {
      "display_name": "Python 3",
      "name": "python3"
    },
    "language_info": {
      "name": "python"
    }
  },
  "nbformat": 4,
  "nbformat_minor": 0
}